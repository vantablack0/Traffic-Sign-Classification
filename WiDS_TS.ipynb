{
  "cells": [
    {
      "cell_type": "code",
      "execution_count": null,
      "id": "708eaa6b",
      "metadata": {
        "id": "708eaa6b"
      },
      "outputs": [],
      "source": [
        "import pandas as pd\n",
        "import numpy as np\n",
        "import cv2\n",
        "import tensorflow as tf\n",
        "from tensorflow import keras\n",
        "import pickle\n",
        "from keras.models import Sequential\n",
        "from keras.layers import Dense, Flatten\n",
        "from keras.layers import Dropout # new!\n",
        "from keras.layers import BatchNormalization # new!\n",
        "from keras import regularizers # new! \n",
        "from tensorflow.keras.optimizers import SGD\n",
        "from keras.layers import Flatten, Conv2D, MaxPooling2D # new!\n",
        "from keras.callbacks import ModelCheckpoint"
      ]
    },
    {
      "cell_type": "code",
      "source": [
        "from google.colab import drive\n",
        "drive.mount('/content/drive')"
      ],
      "metadata": {
        "colab": {
          "base_uri": "https://localhost:8080/"
        },
        "id": "HZFGDVwwMRc3",
        "outputId": "4d89c865-1339-474a-db56-269ff3e4a6d9"
      },
      "id": "HZFGDVwwMRc3",
      "execution_count": null,
      "outputs": [
        {
          "output_type": "stream",
          "name": "stdout",
          "text": [
            "Mounted at /content/drive\n"
          ]
        }
      ]
    },
    {
      "cell_type": "code",
      "source": [
        "data2 = 'drive/MyDrive/traffic-signs-data'\n",
        "infile = open(data2+'/train.p','rb')\n",
        "train = pickle.load(infile)\n",
        "infile.close()\n",
        "infile = open(data2+'/test.p','rb')\n",
        "test = pickle.load(infile)\n",
        "infile.close()\n",
        "infile = open(data2+'/valid.p','rb')\n",
        "valid = pickle.load(infile)\n",
        "infile.close()"
      ],
      "metadata": {
        "id": "j2LL_60nQG-q"
      },
      "id": "j2LL_60nQG-q",
      "execution_count": null,
      "outputs": []
    },
    {
      "cell_type": "code",
      "execution_count": null,
      "id": "352ad999",
      "metadata": {
        "id": "352ad999"
      },
      "outputs": [],
      "source": [
        "def data_augment(image):\n",
        "    rows= image.shape[0]\n",
        "    cols = image.shape[1]\n",
        "    \n",
        "    # rotation\n",
        "    M_rot = cv2.getRotationMatrix2D((cols/2,rows/2),10,1)\n",
        "    \n",
        "    # Translation\n",
        "    M_trans = np.float32([[1,0,3],[0,1,6]])\n",
        "    \n",
        "    \n",
        "    img = cv2.warpAffine(image,M_rot,(cols,rows))\n",
        "    img = cv2.warpAffine(img,M_trans,(cols,rows))\n",
        "    #img = cv2.warpAffine(img,M_aff,(cols,rows))\n",
        "    \n",
        "    # Bilateral filtering\n",
        "    img = cv2.bilateralFilter(img,9,75,75)\n",
        "    return img"
      ]
    },
    {
      "cell_type": "code",
      "source": [
        "x_train = []\n",
        "y_train = []\n",
        "for i in range(len(train['features'])):\n",
        "    image = train['features'][i]\n",
        "    image = cv2.cvtColor(image,cv2.COLOR_BGR2GRAY)\n",
        "    image = image/255\n",
        "    image = image[:,:,np.newaxis]\n",
        "    x_train.append(image)\n",
        "    y_train.append(train['labels'][i])\n",
        "x_train = np.array(x_train)\n",
        "y_train = np.array(y_train)\n",
        "\n",
        "x_test = []\n",
        "y_test = []\n",
        "for i in range(len(test['features'])):\n",
        "    image = test['features'][i]\n",
        "    image = cv2.cvtColor(image,cv2.COLOR_BGR2GRAY)\n",
        "    image = image/255\n",
        "    image = image[:,:,np.newaxis]\n",
        "    x_test.append(image)\n",
        "    y_test.append(test['labels'][i])\n",
        "x_test = np.array(x_test)\n",
        "y_test = np.array(y_test)\n",
        "\n",
        "x_valid = []\n",
        "y_valid = []\n",
        "for i in range(len(valid['features'])):\n",
        "    image = valid['features'][i]\n",
        "    image = cv2.cvtColor(image,cv2.COLOR_BGR2GRAY)\n",
        "    image = image/255\n",
        "    image = image[:,:,np.newaxis]\n",
        "    x_valid.append(image)\n",
        "    y_valid.append(valid['labels'][i])\n",
        "x_valid = np.array(x_valid)\n",
        "y_valid = np.array(y_valid)"
      ],
      "metadata": {
        "id": "whIRO3TJUiXb"
      },
      "id": "whIRO3TJUiXb",
      "execution_count": null,
      "outputs": []
    },
    {
      "cell_type": "code",
      "source": [
        "n_classes = 43"
      ],
      "metadata": {
        "id": "jmcxZBBwSA0k"
      },
      "id": "jmcxZBBwSA0k",
      "execution_count": null,
      "outputs": []
    },
    {
      "cell_type": "code",
      "source": [
        "model_conv = keras.Sequential()\n",
        "model_conv.add(Conv2D(32, kernel_size=(3, 3),activation='relu', input_shape=(32, 32, 1)))\n",
        "model_conv.add(Conv2D(64, kernel_size=(3, 3), activation='relu'))\n",
        "model_conv.add(MaxPooling2D(pool_size=(2, 2)))\n",
        "model_conv.add(BatchNormalization())\n",
        "model_conv.add(Conv2D(64, kernel_size=(3, 3), activation='relu'))\n",
        "model_conv.add(MaxPooling2D(pool_size=(2, 2)))\n",
        "model_conv.add(BatchNormalization())\n",
        "model_conv.add(Dropout(0.25))\n",
        "model_conv.add(Conv2D(64, kernel_size=(3, 3), activation='relu'))\n",
        "model_conv.add(MaxPooling2D(pool_size=(2, 2)))\n",
        "model_conv.add(BatchNormalization())\n",
        "model_conv.add(Dropout(0.5))\n",
        "model_conv.add(Flatten())\n",
        "model_conv.add(Dense(128, activation='relu'))\n",
        "model_conv.add(Dropout(0.5))\n",
        "model_conv.add(Dense(n_classes, activation='softmax'))"
      ],
      "metadata": {
        "id": "WfWHTVP1Q1Hr"
      },
      "id": "WfWHTVP1Q1Hr",
      "execution_count": null,
      "outputs": []
    },
    {
      "cell_type": "code",
      "source": [
        "model_conv.compile(optimizer='adam',loss='categorical_crossentropy',metrics=['accuracy'])"
      ],
      "metadata": {
        "id": "-P5sdjD3SFFn"
      },
      "id": "-P5sdjD3SFFn",
      "execution_count": null,
      "outputs": []
    },
    {
      "cell_type": "code",
      "source": [
        "filepath=\"German_Traffic_ConvNetworkModel.hdf5\"\n",
        "checkpoint_conv = ModelCheckpoint(filepath, monitor='val_acc', verbose=1, save_best_only=True, mode='max')\n",
        "callbacks_list_conv = [checkpoint_conv]"
      ],
      "metadata": {
        "id": "iiez1FuqTExM"
      },
      "id": "iiez1FuqTExM",
      "execution_count": null,
      "outputs": []
    },
    {
      "cell_type": "code",
      "source": [
        "from numpy import array\n",
        "from numpy import argmax\n",
        "from tensorflow.keras.utils import to_categorical\n",
        "# one hot encode\n",
        "encoded1 = to_categorical(y_train)\n",
        "print(encoded1.shape)\n",
        "encoded2 = to_categorical(y_test)\n",
        "encoded3 = to_categorical(y_valid)\n"
      ],
      "metadata": {
        "colab": {
          "base_uri": "https://localhost:8080/"
        },
        "id": "6J3TmHGrZJin",
        "outputId": "5836ee97-c4d1-4992-cd9a-dc58133f1646"
      },
      "id": "6J3TmHGrZJin",
      "execution_count": null,
      "outputs": [
        {
          "output_type": "stream",
          "name": "stdout",
          "text": [
            "(34799, 43)\n"
          ]
        }
      ]
    },
    {
      "cell_type": "code",
      "source": [
        "y_train = encoded1\n",
        "y_test = encoded2\n",
        "y_valid = encoded3"
      ],
      "metadata": {
        "id": "bPJpaV-fXar5"
      },
      "id": "bPJpaV-fXar5",
      "execution_count": null,
      "outputs": []
    },
    {
      "cell_type": "code",
      "source": [
        "y_train.shape"
      ],
      "metadata": {
        "colab": {
          "base_uri": "https://localhost:8080/"
        },
        "id": "k7WxhbUFYLqz",
        "outputId": "931137a6-60ff-49cb-91ba-088f375a6145"
      },
      "id": "k7WxhbUFYLqz",
      "execution_count": null,
      "outputs": [
        {
          "output_type": "execute_result",
          "data": {
            "text/plain": [
              "(34799, 43)"
            ]
          },
          "metadata": {},
          "execution_count": 26
        }
      ]
    },
    {
      "cell_type": "code",
      "source": [
        "#model_conv = tf.keras.models.load_model('drive/MyDrive/partly_trained.h5')"
      ],
      "metadata": {
        "id": "_Ei5wKld1B9-"
      },
      "id": "_Ei5wKld1B9-",
      "execution_count": null,
      "outputs": []
    },
    {
      "cell_type": "code",
      "source": [
        "model_conv.fit(x_train, y_train,callbacks=callbacks_list_conv, batch_size=128, epochs=70, verbose=1,validation_data=(x_valid, y_valid))"
      ],
      "metadata": {
        "colab": {
          "base_uri": "https://localhost:8080/",
          "height": 1000
        },
        "id": "qWFmJW5nS7XQ",
        "outputId": "da421793-eda8-46ea-c83a-35ea307703fd"
      },
      "id": "qWFmJW5nS7XQ",
      "execution_count": null,
      "outputs": [
        {
          "output_type": "stream",
          "name": "stdout",
          "text": [
            "Epoch 1/70\n",
            "272/272 [==============================] - ETA: 0s - loss: 2.3739 - accuracy: 0.3967WARNING:tensorflow:Can save best model only with val_acc available, skipping.\n",
            "272/272 [==============================] - 149s 544ms/step - loss: 2.3739 - accuracy: 0.3967 - val_loss: 4.7567 - val_accuracy: 0.0544\n",
            "Epoch 2/70\n",
            "272/272 [==============================] - ETA: 0s - loss: 0.6017 - accuracy: 0.8160WARNING:tensorflow:Can save best model only with val_acc available, skipping.\n",
            "272/272 [==============================] - 146s 538ms/step - loss: 0.6017 - accuracy: 0.8160 - val_loss: 2.5656 - val_accuracy: 0.3104\n",
            "Epoch 3/70\n",
            "272/272 [==============================] - ETA: 0s - loss: 0.2944 - accuracy: 0.9095WARNING:tensorflow:Can save best model only with val_acc available, skipping.\n",
            "272/272 [==============================] - 146s 536ms/step - loss: 0.2944 - accuracy: 0.9095 - val_loss: 0.1429 - val_accuracy: 0.9571\n",
            "Epoch 4/70\n",
            "272/272 [==============================] - ETA: 0s - loss: 0.1949 - accuracy: 0.9386WARNING:tensorflow:Can save best model only with val_acc available, skipping.\n",
            "272/272 [==============================] - 145s 535ms/step - loss: 0.1949 - accuracy: 0.9386 - val_loss: 0.0971 - val_accuracy: 0.9712\n",
            "Epoch 5/70\n",
            "272/272 [==============================] - ETA: 0s - loss: 0.1385 - accuracy: 0.9578WARNING:tensorflow:Can save best model only with val_acc available, skipping.\n",
            "272/272 [==============================] - 146s 535ms/step - loss: 0.1385 - accuracy: 0.9578 - val_loss: 0.1029 - val_accuracy: 0.9721\n",
            "Epoch 6/70\n",
            "272/272 [==============================] - ETA: 0s - loss: 0.1145 - accuracy: 0.9650WARNING:tensorflow:Can save best model only with val_acc available, skipping.\n",
            "272/272 [==============================] - 145s 534ms/step - loss: 0.1145 - accuracy: 0.9650 - val_loss: 0.0675 - val_accuracy: 0.9800\n",
            "Epoch 7/70\n",
            "272/272 [==============================] - ETA: 0s - loss: 0.0932 - accuracy: 0.9721WARNING:tensorflow:Can save best model only with val_acc available, skipping.\n",
            "272/272 [==============================] - 145s 533ms/step - loss: 0.0932 - accuracy: 0.9721 - val_loss: 0.0629 - val_accuracy: 0.9825\n",
            "Epoch 8/70\n",
            "272/272 [==============================] - ETA: 0s - loss: 0.0849 - accuracy: 0.9741WARNING:tensorflow:Can save best model only with val_acc available, skipping.\n",
            "272/272 [==============================] - 145s 534ms/step - loss: 0.0849 - accuracy: 0.9741 - val_loss: 0.0832 - val_accuracy: 0.9712\n",
            "Epoch 9/70\n",
            "272/272 [==============================] - ETA: 0s - loss: 0.0733 - accuracy: 0.9772WARNING:tensorflow:Can save best model only with val_acc available, skipping.\n",
            "272/272 [==============================] - 146s 537ms/step - loss: 0.0733 - accuracy: 0.9772 - val_loss: 0.0657 - val_accuracy: 0.9794\n",
            "Epoch 10/70\n",
            "272/272 [==============================] - ETA: 0s - loss: 0.0699 - accuracy: 0.9783WARNING:tensorflow:Can save best model only with val_acc available, skipping.\n",
            "272/272 [==============================] - 146s 535ms/step - loss: 0.0699 - accuracy: 0.9783 - val_loss: 0.1016 - val_accuracy: 0.9719\n",
            "Epoch 11/70\n",
            "272/272 [==============================] - ETA: 0s - loss: 0.0620 - accuracy: 0.9809WARNING:tensorflow:Can save best model only with val_acc available, skipping.\n",
            "272/272 [==============================] - 145s 533ms/step - loss: 0.0620 - accuracy: 0.9809 - val_loss: 0.0718 - val_accuracy: 0.9776\n",
            "Epoch 12/70\n",
            "272/272 [==============================] - ETA: 0s - loss: 0.0608 - accuracy: 0.9816WARNING:tensorflow:Can save best model only with val_acc available, skipping.\n",
            "272/272 [==============================] - 145s 535ms/step - loss: 0.0608 - accuracy: 0.9816 - val_loss: 0.0407 - val_accuracy: 0.9893\n",
            "Epoch 13/70\n",
            "272/272 [==============================] - ETA: 0s - loss: 0.0536 - accuracy: 0.9840WARNING:tensorflow:Can save best model only with val_acc available, skipping.\n",
            "272/272 [==============================] - 144s 531ms/step - loss: 0.0536 - accuracy: 0.9840 - val_loss: 0.0554 - val_accuracy: 0.9834\n",
            "Epoch 14/70\n",
            "272/272 [==============================] - ETA: 0s - loss: 0.0478 - accuracy: 0.9853WARNING:tensorflow:Can save best model only with val_acc available, skipping.\n",
            "272/272 [==============================] - 145s 532ms/step - loss: 0.0478 - accuracy: 0.9853 - val_loss: 0.0741 - val_accuracy: 0.9828\n",
            "Epoch 15/70\n",
            "272/272 [==============================] - ETA: 0s - loss: 0.0446 - accuracy: 0.9859WARNING:tensorflow:Can save best model only with val_acc available, skipping.\n",
            "272/272 [==============================] - 144s 529ms/step - loss: 0.0446 - accuracy: 0.9859 - val_loss: 0.0489 - val_accuracy: 0.9859\n",
            "Epoch 16/70\n",
            "272/272 [==============================] - ETA: 0s - loss: 0.0457 - accuracy: 0.9852WARNING:tensorflow:Can save best model only with val_acc available, skipping.\n",
            "272/272 [==============================] - 144s 529ms/step - loss: 0.0457 - accuracy: 0.9852 - val_loss: 0.0571 - val_accuracy: 0.9810\n",
            "Epoch 17/70\n",
            "272/272 [==============================] - ETA: 0s - loss: 0.0435 - accuracy: 0.9861WARNING:tensorflow:Can save best model only with val_acc available, skipping.\n",
            "272/272 [==============================] - 144s 531ms/step - loss: 0.0435 - accuracy: 0.9861 - val_loss: 0.0454 - val_accuracy: 0.9866\n",
            "Epoch 18/70\n",
            "272/272 [==============================] - ETA: 0s - loss: 0.0400 - accuracy: 0.9873WARNING:tensorflow:Can save best model only with val_acc available, skipping.\n",
            "272/272 [==============================] - 145s 532ms/step - loss: 0.0400 - accuracy: 0.9873 - val_loss: 0.0707 - val_accuracy: 0.9825\n",
            "Epoch 19/70\n",
            "272/272 [==============================] - ETA: 0s - loss: 0.0429 - accuracy: 0.9861WARNING:tensorflow:Can save best model only with val_acc available, skipping.\n",
            "272/272 [==============================] - 144s 530ms/step - loss: 0.0429 - accuracy: 0.9861 - val_loss: 0.1330 - val_accuracy: 0.9703\n",
            "Epoch 20/70\n",
            "272/272 [==============================] - ETA: 0s - loss: 0.0412 - accuracy: 0.9861WARNING:tensorflow:Can save best model only with val_acc available, skipping.\n",
            "272/272 [==============================] - 145s 531ms/step - loss: 0.0412 - accuracy: 0.9861 - val_loss: 0.0490 - val_accuracy: 0.9880\n",
            "Epoch 21/70\n",
            "272/272 [==============================] - ETA: 0s - loss: 0.0384 - accuracy: 0.9884WARNING:tensorflow:Can save best model only with val_acc available, skipping.\n",
            "272/272 [==============================] - 145s 532ms/step - loss: 0.0384 - accuracy: 0.9884 - val_loss: 0.0442 - val_accuracy: 0.9891\n",
            "Epoch 22/70\n",
            "272/272 [==============================] - ETA: 0s - loss: 0.0323 - accuracy: 0.9901WARNING:tensorflow:Can save best model only with val_acc available, skipping.\n",
            "272/272 [==============================] - 145s 533ms/step - loss: 0.0323 - accuracy: 0.9901 - val_loss: 0.0288 - val_accuracy: 0.9939\n",
            "Epoch 23/70\n",
            "272/272 [==============================] - ETA: 0s - loss: 0.0383 - accuracy: 0.9881WARNING:tensorflow:Can save best model only with val_acc available, skipping.\n",
            "272/272 [==============================] - 146s 537ms/step - loss: 0.0383 - accuracy: 0.9881 - val_loss: 0.0785 - val_accuracy: 0.9794\n",
            "Epoch 24/70\n",
            "272/272 [==============================] - ETA: 0s - loss: 0.0330 - accuracy: 0.9892WARNING:tensorflow:Can save best model only with val_acc available, skipping.\n",
            "272/272 [==============================] - 146s 536ms/step - loss: 0.0330 - accuracy: 0.9892 - val_loss: 0.0923 - val_accuracy: 0.9755\n",
            "Epoch 25/70\n",
            "272/272 [==============================] - ETA: 0s - loss: 0.0347 - accuracy: 0.9891WARNING:tensorflow:Can save best model only with val_acc available, skipping.\n",
            "272/272 [==============================] - 146s 535ms/step - loss: 0.0347 - accuracy: 0.9891 - val_loss: 0.0397 - val_accuracy: 0.9866\n",
            "Epoch 26/70\n",
            " 20/272 [=>............................] - ETA: 2:10 - loss: 0.0325 - accuracy: 0.9887"
          ]
        },
        {
          "output_type": "error",
          "ename": "KeyboardInterrupt",
          "evalue": "ignored",
          "traceback": [
            "\u001b[0;31m---------------------------------------------------------------------------\u001b[0m",
            "\u001b[0;31mKeyboardInterrupt\u001b[0m                         Traceback (most recent call last)",
            "\u001b[0;32m<ipython-input-27-c81df99f4eba>\u001b[0m in \u001b[0;36m<module>\u001b[0;34m()\u001b[0m\n\u001b[0;32m----> 1\u001b[0;31m \u001b[0mmodel_conv\u001b[0m\u001b[0;34m.\u001b[0m\u001b[0mfit\u001b[0m\u001b[0;34m(\u001b[0m\u001b[0mx_train\u001b[0m\u001b[0;34m,\u001b[0m \u001b[0my_train\u001b[0m\u001b[0;34m,\u001b[0m\u001b[0mcallbacks\u001b[0m\u001b[0;34m=\u001b[0m\u001b[0mcallbacks_list_conv\u001b[0m\u001b[0;34m,\u001b[0m \u001b[0mbatch_size\u001b[0m\u001b[0;34m=\u001b[0m\u001b[0;36m128\u001b[0m\u001b[0;34m,\u001b[0m \u001b[0mepochs\u001b[0m\u001b[0;34m=\u001b[0m\u001b[0;36m70\u001b[0m\u001b[0;34m,\u001b[0m \u001b[0mverbose\u001b[0m\u001b[0;34m=\u001b[0m\u001b[0;36m1\u001b[0m\u001b[0;34m,\u001b[0m\u001b[0mvalidation_data\u001b[0m\u001b[0;34m=\u001b[0m\u001b[0;34m(\u001b[0m\u001b[0mx_valid\u001b[0m\u001b[0;34m,\u001b[0m \u001b[0my_valid\u001b[0m\u001b[0;34m)\u001b[0m\u001b[0;34m)\u001b[0m\u001b[0;34m\u001b[0m\u001b[0;34m\u001b[0m\u001b[0m\n\u001b[0m",
            "\u001b[0;32m/usr/local/lib/python3.7/dist-packages/keras/utils/traceback_utils.py\u001b[0m in \u001b[0;36merror_handler\u001b[0;34m(*args, **kwargs)\u001b[0m\n\u001b[1;32m     62\u001b[0m     \u001b[0mfiltered_tb\u001b[0m \u001b[0;34m=\u001b[0m \u001b[0;32mNone\u001b[0m\u001b[0;34m\u001b[0m\u001b[0;34m\u001b[0m\u001b[0m\n\u001b[1;32m     63\u001b[0m     \u001b[0;32mtry\u001b[0m\u001b[0;34m:\u001b[0m\u001b[0;34m\u001b[0m\u001b[0;34m\u001b[0m\u001b[0m\n\u001b[0;32m---> 64\u001b[0;31m       \u001b[0;32mreturn\u001b[0m \u001b[0mfn\u001b[0m\u001b[0;34m(\u001b[0m\u001b[0;34m*\u001b[0m\u001b[0margs\u001b[0m\u001b[0;34m,\u001b[0m \u001b[0;34m**\u001b[0m\u001b[0mkwargs\u001b[0m\u001b[0;34m)\u001b[0m\u001b[0;34m\u001b[0m\u001b[0;34m\u001b[0m\u001b[0m\n\u001b[0m\u001b[1;32m     65\u001b[0m     \u001b[0;32mexcept\u001b[0m \u001b[0mException\u001b[0m \u001b[0;32mas\u001b[0m \u001b[0me\u001b[0m\u001b[0;34m:\u001b[0m  \u001b[0;31m# pylint: disable=broad-except\u001b[0m\u001b[0;34m\u001b[0m\u001b[0;34m\u001b[0m\u001b[0m\n\u001b[1;32m     66\u001b[0m       \u001b[0mfiltered_tb\u001b[0m \u001b[0;34m=\u001b[0m \u001b[0m_process_traceback_frames\u001b[0m\u001b[0;34m(\u001b[0m\u001b[0me\u001b[0m\u001b[0;34m.\u001b[0m\u001b[0m__traceback__\u001b[0m\u001b[0;34m)\u001b[0m\u001b[0;34m\u001b[0m\u001b[0;34m\u001b[0m\u001b[0m\n",
            "\u001b[0;32m/usr/local/lib/python3.7/dist-packages/keras/engine/training.py\u001b[0m in \u001b[0;36mfit\u001b[0;34m(self, x, y, batch_size, epochs, verbose, callbacks, validation_split, validation_data, shuffle, class_weight, sample_weight, initial_epoch, steps_per_epoch, validation_steps, validation_batch_size, validation_freq, max_queue_size, workers, use_multiprocessing)\u001b[0m\n\u001b[1;32m   1214\u001b[0m                 _r=1):\n\u001b[1;32m   1215\u001b[0m               \u001b[0mcallbacks\u001b[0m\u001b[0;34m.\u001b[0m\u001b[0mon_train_batch_begin\u001b[0m\u001b[0;34m(\u001b[0m\u001b[0mstep\u001b[0m\u001b[0;34m)\u001b[0m\u001b[0;34m\u001b[0m\u001b[0;34m\u001b[0m\u001b[0m\n\u001b[0;32m-> 1216\u001b[0;31m               \u001b[0mtmp_logs\u001b[0m \u001b[0;34m=\u001b[0m \u001b[0mself\u001b[0m\u001b[0;34m.\u001b[0m\u001b[0mtrain_function\u001b[0m\u001b[0;34m(\u001b[0m\u001b[0miterator\u001b[0m\u001b[0;34m)\u001b[0m\u001b[0;34m\u001b[0m\u001b[0;34m\u001b[0m\u001b[0m\n\u001b[0m\u001b[1;32m   1217\u001b[0m               \u001b[0;32mif\u001b[0m \u001b[0mdata_handler\u001b[0m\u001b[0;34m.\u001b[0m\u001b[0mshould_sync\u001b[0m\u001b[0;34m:\u001b[0m\u001b[0;34m\u001b[0m\u001b[0;34m\u001b[0m\u001b[0m\n\u001b[1;32m   1218\u001b[0m                 \u001b[0mcontext\u001b[0m\u001b[0;34m.\u001b[0m\u001b[0masync_wait\u001b[0m\u001b[0;34m(\u001b[0m\u001b[0;34m)\u001b[0m\u001b[0;34m\u001b[0m\u001b[0;34m\u001b[0m\u001b[0m\n",
            "\u001b[0;32m/usr/local/lib/python3.7/dist-packages/tensorflow/python/util/traceback_utils.py\u001b[0m in \u001b[0;36merror_handler\u001b[0;34m(*args, **kwargs)\u001b[0m\n\u001b[1;32m    148\u001b[0m     \u001b[0mfiltered_tb\u001b[0m \u001b[0;34m=\u001b[0m \u001b[0;32mNone\u001b[0m\u001b[0;34m\u001b[0m\u001b[0;34m\u001b[0m\u001b[0m\n\u001b[1;32m    149\u001b[0m     \u001b[0;32mtry\u001b[0m\u001b[0;34m:\u001b[0m\u001b[0;34m\u001b[0m\u001b[0;34m\u001b[0m\u001b[0m\n\u001b[0;32m--> 150\u001b[0;31m       \u001b[0;32mreturn\u001b[0m \u001b[0mfn\u001b[0m\u001b[0;34m(\u001b[0m\u001b[0;34m*\u001b[0m\u001b[0margs\u001b[0m\u001b[0;34m,\u001b[0m \u001b[0;34m**\u001b[0m\u001b[0mkwargs\u001b[0m\u001b[0;34m)\u001b[0m\u001b[0;34m\u001b[0m\u001b[0;34m\u001b[0m\u001b[0m\n\u001b[0m\u001b[1;32m    151\u001b[0m     \u001b[0;32mexcept\u001b[0m \u001b[0mException\u001b[0m \u001b[0;32mas\u001b[0m \u001b[0me\u001b[0m\u001b[0;34m:\u001b[0m\u001b[0;34m\u001b[0m\u001b[0;34m\u001b[0m\u001b[0m\n\u001b[1;32m    152\u001b[0m       \u001b[0mfiltered_tb\u001b[0m \u001b[0;34m=\u001b[0m \u001b[0m_process_traceback_frames\u001b[0m\u001b[0;34m(\u001b[0m\u001b[0me\u001b[0m\u001b[0;34m.\u001b[0m\u001b[0m__traceback__\u001b[0m\u001b[0;34m)\u001b[0m\u001b[0;34m\u001b[0m\u001b[0;34m\u001b[0m\u001b[0m\n",
            "\u001b[0;32m/usr/local/lib/python3.7/dist-packages/tensorflow/python/eager/def_function.py\u001b[0m in \u001b[0;36m__call__\u001b[0;34m(self, *args, **kwds)\u001b[0m\n\u001b[1;32m    908\u001b[0m \u001b[0;34m\u001b[0m\u001b[0m\n\u001b[1;32m    909\u001b[0m       \u001b[0;32mwith\u001b[0m \u001b[0mOptionalXlaContext\u001b[0m\u001b[0;34m(\u001b[0m\u001b[0mself\u001b[0m\u001b[0;34m.\u001b[0m\u001b[0m_jit_compile\u001b[0m\u001b[0;34m)\u001b[0m\u001b[0;34m:\u001b[0m\u001b[0;34m\u001b[0m\u001b[0;34m\u001b[0m\u001b[0m\n\u001b[0;32m--> 910\u001b[0;31m         \u001b[0mresult\u001b[0m \u001b[0;34m=\u001b[0m \u001b[0mself\u001b[0m\u001b[0;34m.\u001b[0m\u001b[0m_call\u001b[0m\u001b[0;34m(\u001b[0m\u001b[0;34m*\u001b[0m\u001b[0margs\u001b[0m\u001b[0;34m,\u001b[0m \u001b[0;34m**\u001b[0m\u001b[0mkwds\u001b[0m\u001b[0;34m)\u001b[0m\u001b[0;34m\u001b[0m\u001b[0;34m\u001b[0m\u001b[0m\n\u001b[0m\u001b[1;32m    911\u001b[0m \u001b[0;34m\u001b[0m\u001b[0m\n\u001b[1;32m    912\u001b[0m       \u001b[0mnew_tracing_count\u001b[0m \u001b[0;34m=\u001b[0m \u001b[0mself\u001b[0m\u001b[0;34m.\u001b[0m\u001b[0mexperimental_get_tracing_count\u001b[0m\u001b[0;34m(\u001b[0m\u001b[0;34m)\u001b[0m\u001b[0;34m\u001b[0m\u001b[0;34m\u001b[0m\u001b[0m\n",
            "\u001b[0;32m/usr/local/lib/python3.7/dist-packages/tensorflow/python/eager/def_function.py\u001b[0m in \u001b[0;36m_call\u001b[0;34m(self, *args, **kwds)\u001b[0m\n\u001b[1;32m    940\u001b[0m       \u001b[0;31m# In this case we have created variables on the first call, so we run the\u001b[0m\u001b[0;34m\u001b[0m\u001b[0;34m\u001b[0m\u001b[0;34m\u001b[0m\u001b[0m\n\u001b[1;32m    941\u001b[0m       \u001b[0;31m# defunned version which is guaranteed to never create variables.\u001b[0m\u001b[0;34m\u001b[0m\u001b[0;34m\u001b[0m\u001b[0;34m\u001b[0m\u001b[0m\n\u001b[0;32m--> 942\u001b[0;31m       \u001b[0;32mreturn\u001b[0m \u001b[0mself\u001b[0m\u001b[0;34m.\u001b[0m\u001b[0m_stateless_fn\u001b[0m\u001b[0;34m(\u001b[0m\u001b[0;34m*\u001b[0m\u001b[0margs\u001b[0m\u001b[0;34m,\u001b[0m \u001b[0;34m**\u001b[0m\u001b[0mkwds\u001b[0m\u001b[0;34m)\u001b[0m  \u001b[0;31m# pylint: disable=not-callable\u001b[0m\u001b[0;34m\u001b[0m\u001b[0;34m\u001b[0m\u001b[0m\n\u001b[0m\u001b[1;32m    943\u001b[0m     \u001b[0;32melif\u001b[0m \u001b[0mself\u001b[0m\u001b[0;34m.\u001b[0m\u001b[0m_stateful_fn\u001b[0m \u001b[0;32mis\u001b[0m \u001b[0;32mnot\u001b[0m \u001b[0;32mNone\u001b[0m\u001b[0;34m:\u001b[0m\u001b[0;34m\u001b[0m\u001b[0;34m\u001b[0m\u001b[0m\n\u001b[1;32m    944\u001b[0m       \u001b[0;31m# Release the lock early so that multiple threads can perform the call\u001b[0m\u001b[0;34m\u001b[0m\u001b[0;34m\u001b[0m\u001b[0;34m\u001b[0m\u001b[0m\n",
            "\u001b[0;32m/usr/local/lib/python3.7/dist-packages/tensorflow/python/eager/function.py\u001b[0m in \u001b[0;36m__call__\u001b[0;34m(self, *args, **kwargs)\u001b[0m\n\u001b[1;32m   3129\u001b[0m        filtered_flat_args) = self._maybe_define_function(args, kwargs)\n\u001b[1;32m   3130\u001b[0m     return graph_function._call_flat(\n\u001b[0;32m-> 3131\u001b[0;31m         filtered_flat_args, captured_inputs=graph_function.captured_inputs)  # pylint: disable=protected-access\n\u001b[0m\u001b[1;32m   3132\u001b[0m \u001b[0;34m\u001b[0m\u001b[0m\n\u001b[1;32m   3133\u001b[0m   \u001b[0;34m@\u001b[0m\u001b[0mproperty\u001b[0m\u001b[0;34m\u001b[0m\u001b[0;34m\u001b[0m\u001b[0m\n",
            "\u001b[0;32m/usr/local/lib/python3.7/dist-packages/tensorflow/python/eager/function.py\u001b[0m in \u001b[0;36m_call_flat\u001b[0;34m(self, args, captured_inputs, cancellation_manager)\u001b[0m\n\u001b[1;32m   1958\u001b[0m       \u001b[0;31m# No tape is watching; skip to running the function.\u001b[0m\u001b[0;34m\u001b[0m\u001b[0;34m\u001b[0m\u001b[0;34m\u001b[0m\u001b[0m\n\u001b[1;32m   1959\u001b[0m       return self._build_call_outputs(self._inference_function.call(\n\u001b[0;32m-> 1960\u001b[0;31m           ctx, args, cancellation_manager=cancellation_manager))\n\u001b[0m\u001b[1;32m   1961\u001b[0m     forward_backward = self._select_forward_and_backward_functions(\n\u001b[1;32m   1962\u001b[0m         \u001b[0margs\u001b[0m\u001b[0;34m,\u001b[0m\u001b[0;34m\u001b[0m\u001b[0;34m\u001b[0m\u001b[0m\n",
            "\u001b[0;32m/usr/local/lib/python3.7/dist-packages/tensorflow/python/eager/function.py\u001b[0m in \u001b[0;36mcall\u001b[0;34m(self, ctx, args, cancellation_manager)\u001b[0m\n\u001b[1;32m    601\u001b[0m               \u001b[0minputs\u001b[0m\u001b[0;34m=\u001b[0m\u001b[0margs\u001b[0m\u001b[0;34m,\u001b[0m\u001b[0;34m\u001b[0m\u001b[0;34m\u001b[0m\u001b[0m\n\u001b[1;32m    602\u001b[0m               \u001b[0mattrs\u001b[0m\u001b[0;34m=\u001b[0m\u001b[0mattrs\u001b[0m\u001b[0;34m,\u001b[0m\u001b[0;34m\u001b[0m\u001b[0;34m\u001b[0m\u001b[0m\n\u001b[0;32m--> 603\u001b[0;31m               ctx=ctx)\n\u001b[0m\u001b[1;32m    604\u001b[0m         \u001b[0;32melse\u001b[0m\u001b[0;34m:\u001b[0m\u001b[0;34m\u001b[0m\u001b[0;34m\u001b[0m\u001b[0m\n\u001b[1;32m    605\u001b[0m           outputs = execute.execute_with_cancellation(\n",
            "\u001b[0;32m/usr/local/lib/python3.7/dist-packages/tensorflow/python/eager/execute.py\u001b[0m in \u001b[0;36mquick_execute\u001b[0;34m(op_name, num_outputs, inputs, attrs, ctx, name)\u001b[0m\n\u001b[1;32m     57\u001b[0m     \u001b[0mctx\u001b[0m\u001b[0;34m.\u001b[0m\u001b[0mensure_initialized\u001b[0m\u001b[0;34m(\u001b[0m\u001b[0;34m)\u001b[0m\u001b[0;34m\u001b[0m\u001b[0;34m\u001b[0m\u001b[0m\n\u001b[1;32m     58\u001b[0m     tensors = pywrap_tfe.TFE_Py_Execute(ctx._handle, device_name, op_name,\n\u001b[0;32m---> 59\u001b[0;31m                                         inputs, attrs, num_outputs)\n\u001b[0m\u001b[1;32m     60\u001b[0m   \u001b[0;32mexcept\u001b[0m \u001b[0mcore\u001b[0m\u001b[0;34m.\u001b[0m\u001b[0m_NotOkStatusException\u001b[0m \u001b[0;32mas\u001b[0m \u001b[0me\u001b[0m\u001b[0;34m:\u001b[0m\u001b[0;34m\u001b[0m\u001b[0;34m\u001b[0m\u001b[0m\n\u001b[1;32m     61\u001b[0m     \u001b[0;32mif\u001b[0m \u001b[0mname\u001b[0m \u001b[0;32mis\u001b[0m \u001b[0;32mnot\u001b[0m \u001b[0;32mNone\u001b[0m\u001b[0;34m:\u001b[0m\u001b[0;34m\u001b[0m\u001b[0;34m\u001b[0m\u001b[0m\n",
            "\u001b[0;31mKeyboardInterrupt\u001b[0m: "
          ]
        }
      ]
    },
    {
      "cell_type": "code",
      "source": [
        "model_conv.evaluate(x_test,y_test)"
      ],
      "metadata": {
        "colab": {
          "base_uri": "https://localhost:8080/"
        },
        "id": "YhISlXJfGf1e",
        "outputId": "a6ff492b-ff97-447a-c0bb-2c5eb4ba9fde"
      },
      "id": "YhISlXJfGf1e",
      "execution_count": null,
      "outputs": [
        {
          "output_type": "stream",
          "name": "stdout",
          "text": [
            "395/395 [==============================] - 14s 36ms/step - loss: 0.0970 - accuracy: 0.9770\n"
          ]
        },
        {
          "output_type": "execute_result",
          "data": {
            "text/plain": [
              "[0.09696297347545624, 0.9769596457481384]"
            ]
          },
          "metadata": {},
          "execution_count": 30
        }
      ]
    },
    {
      "cell_type": "code",
      "source": [
        "model_conv.save('drive/MyDrive/trained.h5')"
      ],
      "metadata": {
        "id": "f4nLJEh7t6mH"
      },
      "id": "f4nLJEh7t6mH",
      "execution_count": null,
      "outputs": []
    },
    {
      "cell_type": "markdown",
      "source": [
        ""
      ],
      "metadata": {
        "id": "31c5321d"
      },
      "id": "31c5321d"
    }
  ],
  "metadata": {
    "kernelspec": {
      "display_name": "Python 3 (ipykernel)",
      "language": "python",
      "name": "python3"
    },
    "language_info": {
      "codemirror_mode": {
        "name": "ipython",
        "version": 3
      },
      "file_extension": ".py",
      "mimetype": "text/x-python",
      "name": "python",
      "nbconvert_exporter": "python",
      "pygments_lexer": "ipython3",
      "version": "3.9.7"
    },
    "colab": {
      "name": "WiDS TS.ipynb",
      "provenance": []
    }
  },
  "nbformat": 4,
  "nbformat_minor": 5
}